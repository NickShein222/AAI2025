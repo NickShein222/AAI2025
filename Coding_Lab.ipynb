{
  "nbformat": 4,
  "nbformat_minor": 0,
  "metadata": {
    "colab": {
      "provenance": [],
      "authorship_tag": "ABX9TyN5M0O6NupYMoRcHWvz8jep",
      "include_colab_link": true
    },
    "kernelspec": {
      "name": "python3",
      "display_name": "Python 3"
    },
    "language_info": {
      "name": "python"
    }
  },
  "cells": [
    {
      "cell_type": "markdown",
      "metadata": {
        "id": "view-in-github",
        "colab_type": "text"
      },
      "source": [
        "<a href=\"https://colab.research.google.com/github/NyiShein/AAI2025/blob/main/Coding_Lab.ipynb\" target=\"_parent\"><img src=\"https://colab.research.google.com/assets/colab-badge.svg\" alt=\"Open In Colab\"/></a>"
      ]
    },
    {
      "cell_type": "markdown",
      "source": [
        "**Part 1**"
      ],
      "metadata": {
        "id": "mLppPixJ9S_e"
      }
    },
    {
      "cell_type": "code",
      "execution_count": null,
      "metadata": {
        "colab": {
          "base_uri": "https://localhost:8080/"
        },
        "id": "buqd-7GK5mli",
        "outputId": "aab6fae2-b586-44d2-b8b6-7e29ec104606"
      },
      "outputs": [
        {
          "output_type": "stream",
          "name": "stdout",
          "text": [
            "      price  area  bedrooms  bathrooms  stories mainroad guestroom basement  \\\n",
            "0  13300000  7420         4          2        3      yes        no       no   \n",
            "1  12250000  8960         4          4        4      yes        no       no   \n",
            "2  12250000  9960         3          2        2      yes        no      yes   \n",
            "3  12215000  7500         4          2        2      yes        no      yes   \n",
            "4  11410000  7420         4          1        2      yes       yes      yes   \n",
            "\n",
            "  hotwaterheating airconditioning  parking prefarea furnishingstatus  \n",
            "0              no             yes        2      yes        furnished  \n",
            "1              no             yes        3       no        furnished  \n",
            "2              no              no        2      yes   semi-furnished  \n",
            "3              no             yes        3      yes        furnished  \n",
            "4              no             yes        2       no        furnished  \n",
            "Predicted price for a 2000 sq ft house with furnished status: $3,995,195.37\n",
            "\n",
            "Model Coefficients:\n",
            "furnishingstatus_furnished: 524524.78\n",
            "furnishingstatus_semi-furnished: 56849.49\n",
            "furnishingstatus_unfurnished: -581374.27\n",
            "area: 399.63\n"
          ]
        }
      ],
      "source": [
        "import pandas as pd\n",
        "import numpy as np\n",
        "from sklearn.model_selection import train_test_split\n",
        "from sklearn.linear_model import LinearRegression\n",
        "from sklearn.preprocessing import OneHotEncoder\n",
        "from sklearn.compose import ColumnTransformer\n",
        "from sklearn.pipeline import Pipeline\n",
        "\n",
        "# ----------------------------------------------------\n",
        "# Load dataset\n",
        "# Source: Kaggle Housing Prices Dataset (yasserh/housing-prices-dataset)\n",
        "# ----------------------------------------------------\n",
        "df = pd.read_csv(\"Housing.csv\")   # replace with actual file name if different\n",
        "print(df.head())  # quick preview of the first rows\n",
        "\n",
        "# ----------------------------------------------------\n",
        "# Define features (X) and target (y)\n",
        "# We'll use 'area' (square footage) and 'furnishingstatus' (categorical)\n",
        "# as predictors, and 'price' as the target variable.\n",
        "# ----------------------------------------------------\n",
        "X = df[['area', 'furnishingstatus']]\n",
        "y = df['price']\n",
        "\n",
        "# ----------------------------------------------------\n",
        "# Preprocessing step:\n",
        "# - OneHotEncode the categorical column 'furnishingstatus'\n",
        "# - Leave 'area' (numerical) as is\n",
        "# ----------------------------------------------------\n",
        "preprocessor = ColumnTransformer(\n",
        "    transformers=[\n",
        "        ('furnishing', OneHotEncoder(sparse_output=False), ['furnishingstatus'])\n",
        "    ],\n",
        "    remainder='passthrough'  # keep 'area' column unchanged\n",
        ")\n",
        "\n",
        "# ----------------------------------------------------\n",
        "# Create a pipeline:\n",
        "# 1. Preprocess data (OneHotEncoder for furnishingstatus)\n",
        "# 2. Train Linear Regression model\n",
        "# ----------------------------------------------------\n",
        "model = Pipeline(steps=[\n",
        "    ('preprocessor', preprocessor),\n",
        "    ('regressor', LinearRegression())\n",
        "])\n",
        "\n",
        "# ----------------------------------------------------\n",
        "# Split the dataset into training and testing sets\n",
        "# test_size=0.2 → 20% test data, 80% training data\n",
        "# ----------------------------------------------------\n",
        "X_train, X_test, y_train, y_test = train_test_split(X, y, test_size=0.2,\n",
        "                                                    random_state=42)\n",
        "\n",
        "# ----------------------------------------------------\n",
        "# Train the model on training data\n",
        "# ----------------------------------------------------\n",
        "model.fit(X_train, y_train)\n",
        "\n",
        "# ----------------------------------------------------\n",
        "# Make a prediction:\n",
        "# Predict the price for a 2000 sq ft furnished house\n",
        "# ----------------------------------------------------\n",
        "new_house = pd.DataFrame({'area': [2000], 'furnishingstatus': ['furnished']})\n",
        "predicted_price = model.predict(new_house)\n",
        "print(f\"Predicted price for a 2000 sq ft house with furnished status: ${predicted_price[0]:,.2f}\")\n",
        "\n",
        "# ----------------------------------------------------\n",
        "# Display model coefficients:\n",
        "# - Shows how much each feature (sq ft, furnishing type)\n",
        "#   contributes to the predicted price.\n",
        "# ----------------------------------------------------\n",
        "feature_names = (\n",
        "    model.named_steps['preprocessor']\n",
        "    .named_transformers_['furnishing']\n",
        "    .get_feature_names_out(['furnishingstatus'])\n",
        ").tolist() + ['area']\n",
        "\n",
        "coefficients = model.named_steps['regressor'].coef_\n",
        "\n",
        "print(\"\\nModel Coefficients:\")\n",
        "for feature, coef in zip(feature_names, coefficients):\n",
        "    print(f\"{feature}: {coef:.2f}\")\n"
      ]
    },
    {
      "cell_type": "markdown",
      "source": [
        "**Part 2**"
      ],
      "metadata": {
        "id": "NMxFmrLAFA3s"
      }
    },
    {
      "cell_type": "code",
      "source": [
        "import pandas as pd\n",
        "from sklearn.model_selection import train_test_split\n",
        "from sklearn.linear_model import LogisticRegression\n",
        "from sklearn.preprocessing import StandardScaler, OneHotEncoder\n",
        "from sklearn.compose import ColumnTransformer\n",
        "from sklearn.pipeline import Pipeline\n",
        "\n",
        "# ----------------------------------------------------\n",
        "# Sample dataset for churn prediction\n",
        "# (In practice, replace with a larger real dataset)\n",
        "# ----------------------------------------------------\n",
        "data = {\n",
        "    'age': [25, 34, 45, 28, 52, 36, 41, 29, 47, 33],\n",
        "    'monthly_usage_hours': [10, 50, 20, 15, 60, 30, 25, 12, 55, 40],\n",
        "    'purchase_amount': [100, 250, 150, 80, 300, 200, 175, 90, 280, 220],\n",
        "    'customer_service_calls': [5, 2, 8, 6, 1, 3, 7, 4, 0, 2],\n",
        "    'region': ['North', 'South', 'West', 'East', 'South', 'North', 'West', 'East', 'South', 'North'],\n",
        "    'churn': [1, 0, 1, 1, 0, 0, 1, 1, 0, 0]  # 1 = churned, 0 = not churned\n",
        "}\n",
        "df = pd.DataFrame(data)\n",
        "\n",
        "# ----------------------------------------------------\n",
        "# Features (X) and Target (y)\n",
        "# ----------------------------------------------------\n",
        "X = df[['age', 'monthly_usage_hours', 'purchase_amount', 'customer_service_calls', 'region']]\n",
        "y = df['churn']\n",
        "\n",
        "# ----------------------------------------------------\n",
        "# Preprocessing: scale numeric features + one-hot encode categorical\n",
        "# ----------------------------------------------------\n",
        "numeric_features = ['age', 'monthly_usage_hours', 'purchase_amount', 'customer_service_calls']\n",
        "categorical_features = ['region']\n",
        "\n",
        "preprocessor = ColumnTransformer(\n",
        "    transformers=[\n",
        "        ('num', StandardScaler(), numeric_features),\n",
        "        ('cat', OneHotEncoder(sparse_output=False), categorical_features)\n",
        "    ]\n",
        ")\n",
        "\n",
        "# ----------------------------------------------------\n",
        "# Create pipeline with preprocessing and Logistic Regression\n",
        "# ----------------------------------------------------\n",
        "model = Pipeline(steps=[\n",
        "    ('preprocessor', preprocessor),\n",
        "    ('classifier', LogisticRegression(random_state=42))\n",
        "])\n",
        "\n",
        "# ----------------------------------------------------\n",
        "# Train/test split and training\n",
        "# ----------------------------------------------------\n",
        "X_train, X_test, y_train, y_test = train_test_split(X, y, test_size=0.2, random_state=42)\n",
        "model.fit(X_train, y_train)\n",
        "\n",
        "# ----------------------------------------------------\n",
        "# Predict churn probability for a new customer\n",
        "# ----------------------------------------------------\n",
        "new_customer = pd.DataFrame({\n",
        "    'age': [35],\n",
        "    'monthly_usage_hours': [20],\n",
        "    'purchase_amount': [150],\n",
        "    'customer_service_calls': [5],\n",
        "    'region': ['West']\n",
        "})\n",
        "\n",
        "churn_probability = model.predict_proba(new_customer)[0][1]  # Probability of churn (class 1)\n",
        "threshold = 0.5\n",
        "churn_prediction = int(churn_probability > threshold)\n",
        "\n",
        "print(f\"Churn Probability for new customer: {churn_probability:.2f}\")\n",
        "print(f\"Churn Prediction (1 = churn, 0 = no churn): {churn_prediction}\")\n",
        "\n",
        "# ----------------------------------------------------\n",
        "# Show model coefficients to interpret feature impacts\n",
        "# ----------------------------------------------------\n",
        "ohe_feature_names = (\n",
        "    model.named_steps['preprocessor']\n",
        "    .named_transformers_['cat']\n",
        "    .get_feature_names_out(categorical_features)\n",
        ").tolist()\n",
        "\n",
        "feature_names = numeric_features + ohe_feature_names\n",
        "coefficients = model.named_steps['classifier'].coef_[0]\n",
        "\n",
        "print(\"\\nModel Coefficients:\")\n",
        "for feature, coef in zip(feature_names, coefficients):\n",
        "    print(f\"{feature}: {coef:.2f}\")\n",
        "\n",
        "# Optional: check model accuracy\n",
        "print(\"\\nModel Accuracy on Test Data:\", model.score(X_test, y_test))\n"
      ],
      "metadata": {
        "colab": {
          "base_uri": "https://localhost:8080/"
        },
        "id": "XE6PPI7iFCf0",
        "outputId": "9d5a0e8a-aeb5-48b2-e43c-62f7a011792d"
      },
      "execution_count": 2,
      "outputs": [
        {
          "output_type": "stream",
          "name": "stdout",
          "text": [
            "Churn Probability for new customer: 0.82\n",
            "Churn Prediction (1 = churn, 0 = no churn): 1\n",
            "\n",
            "Model Coefficients:\n",
            "age: -0.13\n",
            "monthly_usage_hours: -0.62\n",
            "purchase_amount: -0.67\n",
            "customer_service_calls: 0.80\n",
            "region_East: 0.17\n",
            "region_North: -0.38\n",
            "region_South: -0.03\n",
            "region_West: 0.24\n",
            "\n",
            "Model Accuracy on Test Data: 1.0\n"
          ]
        }
      ]
    },
    {
      "cell_type": "markdown",
      "source": [
        "**Part 3**"
      ],
      "metadata": {
        "id": "iXqBi_rOvy4B"
      }
    },
    {
      "cell_type": "code",
      "source": [
        "import pandas as pd\n",
        "import numpy as np\n",
        "from sklearn.cluster import KMeans\n",
        "from sklearn.preprocessing import StandardScaler\n",
        "import matplotlib.pyplot as plt\n",
        "\n",
        "# ----------------------------------------------------\n",
        "# Sample dataset (toy example for segmentation)\n",
        "# ----------------------------------------------------\n",
        "data = {\n",
        "    'annual_spending': [500, 1200, 300, 1500, 800, 200, 1000, 600, 1300, 400],\n",
        "    'purchase_frequency': [5, 12, 3, 15, 8, 2, 10, 6, 13, 4],\n",
        "    'age': [25, 34, 45, 28, 52, 36, 41, 29, 47, 33],\n",
        "    'region': ['North', 'South', 'West', 'East', 'South', 'North', 'West', 'East', 'South', 'North']\n",
        "}\n",
        "df = pd.DataFrame(data)\n",
        "\n",
        "# ----------------------------------------------------\n",
        "# Preprocess: scale numerical features\n",
        "# ----------------------------------------------------\n",
        "features = ['annual_spending', 'purchase_frequency', 'age']\n",
        "X = df[features]\n",
        "scaler = StandardScaler()\n",
        "X_scaled = scaler.fit_transform(X)\n",
        "\n",
        "# ----------------------------------------------------\n",
        "# Elbow Method to choose optimal K\n",
        "# ----------------------------------------------------\n",
        "inertia = []\n",
        "K = range(1, 6)\n",
        "for k in K:\n",
        "    kmeans = KMeans(n_clusters=k, random_state=42)\n",
        "    kmeans.fit(X_scaled)\n",
        "    inertia.append(kmeans.inertia_)\n",
        "\n",
        "# Plot elbow curve\n",
        "plt.figure(figsize=(8, 5))\n",
        "plt.plot(K, inertia, 'bo-')\n",
        "plt.xlabel('Number of Clusters (K)')\n",
        "plt.ylabel('Inertia')\n",
        "plt.title('Elbow Method for Optimal K')\n",
        "plt.savefig('elbow_plot.png')\n",
        "plt.close()\n",
        "\n",
        "# ----------------------------------------------------\n",
        "# Apply KMeans with assumed optimal K=3\n",
        "# ----------------------------------------------------\n",
        "optimal_k = 3\n",
        "kmeans = KMeans(n_clusters=optimal_k, random_state=42)\n",
        "df['cluster'] = kmeans.fit_predict(X_scaled)\n",
        "\n",
        "# ----------------------------------------------------\n",
        "# Analyze cluster characteristics\n",
        "# ----------------------------------------------------\n",
        "cluster_summary = df.groupby('cluster')[features].mean().round(2)\n",
        "print(\"Cluster Characteristics:\")\n",
        "print(cluster_summary)\n",
        "\n",
        "# ----------------------------------------------------\n",
        "# Suggested strategies based on clusters\n",
        "# ----------------------------------------------------\n",
        "for cluster in range(optimal_k):\n",
        "    print(f\"\\nCluster {cluster} Strategy:\")\n",
        "    if cluster_summary.loc[cluster, 'annual_spending'] > 1000:\n",
        "        print(\"High-spending customers: Offer exclusive promotions or loyalty rewards.\")\n",
        "    elif cluster_summary.loc[cluster, 'purchase_frequency'] > 10:\n",
        "        print(\"Frequent buyers: Provide bulk discounts or subscription plans.\")\n",
        "    else:\n",
        "        print(\"Low-engagement customers: Send personalized re-engagement campaigns.\")\n",
        "\n",
        "# ----------------------------------------------------\n",
        "# Save cluster assignments to CSV\n",
        "# ----------------------------------------------------\n",
        "df.to_csv('customer_segments.csv', index=False)\n",
        "print(\"\\nCustomer segments saved to 'customer_segments.csv'\")\n"
      ],
      "metadata": {
        "colab": {
          "base_uri": "https://localhost:8080/"
        },
        "id": "TQjPeev-v204",
        "outputId": "84e3e7bc-3f04-4b9d-8125-fca0710656c7"
      },
      "execution_count": 4,
      "outputs": [
        {
          "output_type": "stream",
          "name": "stdout",
          "text": [
            "Cluster Characteristics:\n",
            "         annual_spending  purchase_frequency   age\n",
            "cluster                                           \n",
            "0                 1500.0               15.00  28.0\n",
            "1                  400.0                4.00  33.6\n",
            "2                 1075.0               10.75  43.5\n",
            "\n",
            "Cluster 0 Strategy:\n",
            "High-spending customers: Offer exclusive promotions or loyalty rewards.\n",
            "\n",
            "Cluster 1 Strategy:\n",
            "Low-engagement customers: Send personalized re-engagement campaigns.\n",
            "\n",
            "Cluster 2 Strategy:\n",
            "High-spending customers: Offer exclusive promotions or loyalty rewards.\n",
            "\n",
            "Customer segments saved to 'customer_segments.csv'\n"
          ]
        }
      ]
    },
    {
      "cell_type": "markdown",
      "source": [
        "**Extra Credit**"
      ],
      "metadata": {
        "id": "6W0F0o9owODF"
      }
    },
    {
      "cell_type": "code",
      "source": [
        "import pandas as pd\n",
        "from sklearn.linear_model import LinearRegression\n",
        "import matplotlib.pyplot as plt\n",
        "\n",
        "# ----------------------------------------------------\n",
        "# Load dataset\n",
        "# CSV must contain columns: 'month' (1,2,3,...) and 'sales'\n",
        "# Example data source: custom sales_data.csv with monthly sales\n",
        "# ----------------------------------------------------\n",
        "df = pd.read_csv('sales_data.csv')\n",
        "print(df.head())\n",
        "\n",
        "# Features and target\n",
        "X = df[['month']]\n",
        "y = df['sales']\n",
        "\n",
        "# ----------------------------------------------------\n",
        "# Train regression model\n",
        "# ----------------------------------------------------\n",
        "model = LinearRegression()\n",
        "model.fit(X, y)\n",
        "\n",
        "# ----------------------------------------------------\n",
        "# Forecast next 6 months\n",
        "# ----------------------------------------------------\n",
        "future_months = pd.DataFrame({'month': range(max(df['month'])+1, max(df['month'])+7)})\n",
        "predictions = model.predict(future_months)\n",
        "\n",
        "# ----------------------------------------------------\n",
        "# Plot historical vs predicted\n",
        "# ----------------------------------------------------\n",
        "plt.figure(figsize=(8,5))\n",
        "plt.plot(df['month'], y, label='Historical Sales', marker='o')\n",
        "plt.plot(future_months['month'], predictions, label='Predicted Sales (Next 6 Months)', linestyle='--', marker='x')\n",
        "plt.xlabel('Month')\n",
        "plt.ylabel('Sales')\n",
        "plt.title('Housing Demand Forecast')\n",
        "plt.legend()\n",
        "plt.grid(True)\n",
        "plt.show()\n",
        "\n",
        "# ----------------------------------------------------\n",
        "# Print predictions for next 6 months\n",
        "# ----------------------------------------------------\n",
        "forecast_df = future_months.copy()\n",
        "forecast_df['predicted_sales'] = predictions.round(2)\n",
        "print(\"\\nForecast for next 6 months:\")\n",
        "print(forecast_df)\n"
      ],
      "metadata": {
        "colab": {
          "base_uri": "https://localhost:8080/",
          "height": 747
        },
        "id": "cywLlwBawPti",
        "outputId": "0020c428-010b-41a8-ee9a-14f8b7e9df2e"
      },
      "execution_count": 6,
      "outputs": [
        {
          "output_type": "stream",
          "name": "stdout",
          "text": [
            "   month  sales\n",
            "0      1    100\n",
            "1      2    120\n",
            "2      3    130\n",
            "3      4    150\n",
            "4      5    170\n"
          ]
        },
        {
          "output_type": "display_data",
          "data": {
            "text/plain": [
              "<Figure size 800x500 with 1 Axes>"
            ],
            "image/png": "[encoded data removed]"
          },
          "metadata": {}
        },
        {
          "output_type": "stream",
          "name": "stdout",
          "text": [
            "\n",
            "Forecast for next 6 months:\n",
            "   month  predicted_sales\n",
            "0     13           265.61\n",
            "1     14           279.03\n",
            "2     15           292.46\n",
            "3     16           305.89\n",
            "4     17           319.31\n",
            "5     18           332.74\n"
          ]
        }
      ]
    }
  ]
}